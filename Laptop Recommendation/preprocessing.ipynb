{
  "cells": [
    {
      "cell_type": "markdown",
      "metadata": {
        "id": "MxrFYSrX1QwA"
      },
      "source": [
        "**Import Library and Load The Data**"
      ]
    },
    {
      "cell_type": "code",
      "execution_count": 89,
      "metadata": {
        "id": "MwUTKdwk1QwD"
      },
      "outputs": [],
      "source": [
        "import numpy as np\n",
        "import pandas as pd\n",
        "import matplotlib.pyplot as plt\n",
        "import seaborn as sns\n",
        "import difflib\n",
        "from sklearn.feature_extraction.text import TfidfVectorizer\n",
        "from sklearn.metrics.pairwise import cosine_similarity"
      ]
    },
    {
      "cell_type": "code",
      "execution_count": 90,
      "metadata": {
        "colab": {
          "base_uri": "https://localhost:8080/",
          "height": 206
        },
        "id": "JNUKQLg71QwF",
        "outputId": "3a97b098-ce7f-4e70-f0df-7659a2a59c25"
      },
      "outputs": [
        {
          "output_type": "execute_result",
          "data": {
            "text/plain": [
              "    Brand           Laptop_name  Display_size        Processor_type  \\\n",
              "0      HP  Notebook 14-df0008nx          14.0   Intel Celeron N4000   \n",
              "1  Lenovo    IdeaPad 330S-14IKB          14.0     Intel Core i-820U   \n",
              "2  Huawei      MateBook D Volta          14.0     Intel Core i-820U   \n",
              "3    Dell        Inspiron 1 367           1.6   Intel Core i3-7020U   \n",
              "4    Asus      VivoBook 1 X10UR           1.6     Intel Core i7-80U   \n",
              "\n",
              "                  Graphics_card     Disk_space  Discount_price  Old_price  \\\n",
              "0         Intel HD Graphics 600   64 GB (eMMC)           129.0      129.0   \n",
              "1        Intel UHD Graphics 620       1 TB HDD          1849.0     2099.0   \n",
              "2    NVIDIA GeForce MX10 (2 GB)      26 GB SSD          2999.0     3799.0   \n",
              "3         Intel HD Graphics 620       1 TB HDD          1849.0     1849.0   \n",
              "4   NVIDIA GeForce 930MX (2 GB)       1 TB HDD          2499.0     3149.0   \n",
              "\n",
              "   Rating  \n",
              "0    0 /   \n",
              "1  3.3 /   \n",
              "2    0 /   \n",
              "3    0 /   \n",
              "4    0 /   "
            ],
            "text/html": [
              "\n",
              "\n",
              "  <div id=\"df-c29b59ae-b52f-4874-ae10-29ca2a68afd9\">\n",
              "    <div class=\"colab-df-container\">\n",
              "      <div>\n",
              "<style scoped>\n",
              "    .dataframe tbody tr th:only-of-type {\n",
              "        vertical-align: middle;\n",
              "    }\n",
              "\n",
              "    .dataframe tbody tr th {\n",
              "        vertical-align: top;\n",
              "    }\n",
              "\n",
              "    .dataframe thead th {\n",
              "        text-align: right;\n",
              "    }\n",
              "</style>\n",
              "<table border=\"1\" class=\"dataframe\">\n",
              "  <thead>\n",
              "    <tr style=\"text-align: right;\">\n",
              "      <th></th>\n",
              "      <th>Brand</th>\n",
              "      <th>Laptop_name</th>\n",
              "      <th>Display_size</th>\n",
              "      <th>Processor_type</th>\n",
              "      <th>Graphics_card</th>\n",
              "      <th>Disk_space</th>\n",
              "      <th>Discount_price</th>\n",
              "      <th>Old_price</th>\n",
              "      <th>Rating</th>\n",
              "    </tr>\n",
              "  </thead>\n",
              "  <tbody>\n",
              "    <tr>\n",
              "      <th>0</th>\n",
              "      <td>HP</td>\n",
              "      <td>Notebook 14-df0008nx</td>\n",
              "      <td>14.0</td>\n",
              "      <td>Intel Celeron N4000</td>\n",
              "      <td>Intel HD Graphics 600</td>\n",
              "      <td>64 GB (eMMC)</td>\n",
              "      <td>129.0</td>\n",
              "      <td>129.0</td>\n",
              "      <td>0 /</td>\n",
              "    </tr>\n",
              "    <tr>\n",
              "      <th>1</th>\n",
              "      <td>Lenovo</td>\n",
              "      <td>IdeaPad 330S-14IKB</td>\n",
              "      <td>14.0</td>\n",
              "      <td>Intel Core i-820U</td>\n",
              "      <td>Intel UHD Graphics 620</td>\n",
              "      <td>1 TB HDD</td>\n",
              "      <td>1849.0</td>\n",
              "      <td>2099.0</td>\n",
              "      <td>3.3 /</td>\n",
              "    </tr>\n",
              "    <tr>\n",
              "      <th>2</th>\n",
              "      <td>Huawei</td>\n",
              "      <td>MateBook D Volta</td>\n",
              "      <td>14.0</td>\n",
              "      <td>Intel Core i-820U</td>\n",
              "      <td>NVIDIA GeForce MX10 (2 GB)</td>\n",
              "      <td>26 GB SSD</td>\n",
              "      <td>2999.0</td>\n",
              "      <td>3799.0</td>\n",
              "      <td>0 /</td>\n",
              "    </tr>\n",
              "    <tr>\n",
              "      <th>3</th>\n",
              "      <td>Dell</td>\n",
              "      <td>Inspiron 1 367</td>\n",
              "      <td>1.6</td>\n",
              "      <td>Intel Core i3-7020U</td>\n",
              "      <td>Intel HD Graphics 620</td>\n",
              "      <td>1 TB HDD</td>\n",
              "      <td>1849.0</td>\n",
              "      <td>1849.0</td>\n",
              "      <td>0 /</td>\n",
              "    </tr>\n",
              "    <tr>\n",
              "      <th>4</th>\n",
              "      <td>Asus</td>\n",
              "      <td>VivoBook 1 X10UR</td>\n",
              "      <td>1.6</td>\n",
              "      <td>Intel Core i7-80U</td>\n",
              "      <td>NVIDIA GeForce 930MX (2 GB)</td>\n",
              "      <td>1 TB HDD</td>\n",
              "      <td>2499.0</td>\n",
              "      <td>3149.0</td>\n",
              "      <td>0 /</td>\n",
              "    </tr>\n",
              "  </tbody>\n",
              "</table>\n",
              "</div>\n",
              "      <button class=\"colab-df-convert\" onclick=\"convertToInteractive('df-c29b59ae-b52f-4874-ae10-29ca2a68afd9')\"\n",
              "              title=\"Convert this dataframe to an interactive table.\"\n",
              "              style=\"display:none;\">\n",
              "\n",
              "  <svg xmlns=\"http://www.w3.org/2000/svg\" height=\"24px\"viewBox=\"0 0 24 24\"\n",
              "       width=\"24px\">\n",
              "    <path d=\"M0 0h24v24H0V0z\" fill=\"none\"/>\n",
              "    <path d=\"M18.56 5.44l.94 2.06.94-2.06 2.06-.94-2.06-.94-.94-2.06-.94 2.06-2.06.94zm-11 1L8.5 8.5l.94-2.06 2.06-.94-2.06-.94L8.5 2.5l-.94 2.06-2.06.94zm10 10l.94 2.06.94-2.06 2.06-.94-2.06-.94-.94-2.06-.94 2.06-2.06.94z\"/><path d=\"M17.41 7.96l-1.37-1.37c-.4-.4-.92-.59-1.43-.59-.52 0-1.04.2-1.43.59L10.3 9.45l-7.72 7.72c-.78.78-.78 2.05 0 2.83L4 21.41c.39.39.9.59 1.41.59.51 0 1.02-.2 1.41-.59l7.78-7.78 2.81-2.81c.8-.78.8-2.07 0-2.86zM5.41 20L4 18.59l7.72-7.72 1.47 1.35L5.41 20z\"/>\n",
              "  </svg>\n",
              "      </button>\n",
              "\n",
              "\n",
              "\n",
              "    <div id=\"df-dbec464d-8d6b-4356-bd1d-1f5ba0af0e90\">\n",
              "      <button class=\"colab-df-quickchart\" onclick=\"quickchart('df-dbec464d-8d6b-4356-bd1d-1f5ba0af0e90')\"\n",
              "              title=\"Suggest charts.\"\n",
              "              style=\"display:none;\">\n",
              "\n",
              "<svg xmlns=\"http://www.w3.org/2000/svg\" height=\"24px\"viewBox=\"0 0 24 24\"\n",
              "     width=\"24px\">\n",
              "    <g>\n",
              "        <path d=\"M19 3H5c-1.1 0-2 .9-2 2v14c0 1.1.9 2 2 2h14c1.1 0 2-.9 2-2V5c0-1.1-.9-2-2-2zM9 17H7v-7h2v7zm4 0h-2V7h2v10zm4 0h-2v-4h2v4z\"/>\n",
              "    </g>\n",
              "</svg>\n",
              "      </button>\n",
              "    </div>\n",
              "\n",
              "<style>\n",
              "  .colab-df-quickchart {\n",
              "    background-color: #E8F0FE;\n",
              "    border: none;\n",
              "    border-radius: 50%;\n",
              "    cursor: pointer;\n",
              "    display: none;\n",
              "    fill: #1967D2;\n",
              "    height: 32px;\n",
              "    padding: 0 0 0 0;\n",
              "    width: 32px;\n",
              "  }\n",
              "\n",
              "  .colab-df-quickchart:hover {\n",
              "    background-color: #E2EBFA;\n",
              "    box-shadow: 0px 1px 2px rgba(60, 64, 67, 0.3), 0px 1px 3px 1px rgba(60, 64, 67, 0.15);\n",
              "    fill: #174EA6;\n",
              "  }\n",
              "\n",
              "  [theme=dark] .colab-df-quickchart {\n",
              "    background-color: #3B4455;\n",
              "    fill: #D2E3FC;\n",
              "  }\n",
              "\n",
              "  [theme=dark] .colab-df-quickchart:hover {\n",
              "    background-color: #434B5C;\n",
              "    box-shadow: 0px 1px 3px 1px rgba(0, 0, 0, 0.15);\n",
              "    filter: drop-shadow(0px 1px 2px rgba(0, 0, 0, 0.3));\n",
              "    fill: #FFFFFF;\n",
              "  }\n",
              "</style>\n",
              "\n",
              "    <script>\n",
              "      async function quickchart(key) {\n",
              "        const containerElement = document.querySelector('#' + key);\n",
              "        const charts = await google.colab.kernel.invokeFunction(\n",
              "            'suggestCharts', [key], {});\n",
              "      }\n",
              "    </script>\n",
              "\n",
              "      <script>\n",
              "\n",
              "function displayQuickchartButton(domScope) {\n",
              "  let quickchartButtonEl =\n",
              "    domScope.querySelector('#df-dbec464d-8d6b-4356-bd1d-1f5ba0af0e90 button.colab-df-quickchart');\n",
              "  quickchartButtonEl.style.display =\n",
              "    google.colab.kernel.accessAllowed ? 'block' : 'none';\n",
              "}\n",
              "\n",
              "        displayQuickchartButton(document);\n",
              "      </script>\n",
              "      <style>\n",
              "    .colab-df-container {\n",
              "      display:flex;\n",
              "      flex-wrap:wrap;\n",
              "      gap: 12px;\n",
              "    }\n",
              "\n",
              "    .colab-df-convert {\n",
              "      background-color: #E8F0FE;\n",
              "      border: none;\n",
              "      border-radius: 50%;\n",
              "      cursor: pointer;\n",
              "      display: none;\n",
              "      fill: #1967D2;\n",
              "      height: 32px;\n",
              "      padding: 0 0 0 0;\n",
              "      width: 32px;\n",
              "    }\n",
              "\n",
              "    .colab-df-convert:hover {\n",
              "      background-color: #E2EBFA;\n",
              "      box-shadow: 0px 1px 2px rgba(60, 64, 67, 0.3), 0px 1px 3px 1px rgba(60, 64, 67, 0.15);\n",
              "      fill: #174EA6;\n",
              "    }\n",
              "\n",
              "    [theme=dark] .colab-df-convert {\n",
              "      background-color: #3B4455;\n",
              "      fill: #D2E3FC;\n",
              "    }\n",
              "\n",
              "    [theme=dark] .colab-df-convert:hover {\n",
              "      background-color: #434B5C;\n",
              "      box-shadow: 0px 1px 3px 1px rgba(0, 0, 0, 0.15);\n",
              "      filter: drop-shadow(0px 1px 2px rgba(0, 0, 0, 0.3));\n",
              "      fill: #FFFFFF;\n",
              "    }\n",
              "  </style>\n",
              "\n",
              "      <script>\n",
              "        const buttonEl =\n",
              "          document.querySelector('#df-c29b59ae-b52f-4874-ae10-29ca2a68afd9 button.colab-df-convert');\n",
              "        buttonEl.style.display =\n",
              "          google.colab.kernel.accessAllowed ? 'block' : 'none';\n",
              "\n",
              "        async function convertToInteractive(key) {\n",
              "          const element = document.querySelector('#df-c29b59ae-b52f-4874-ae10-29ca2a68afd9');\n",
              "          const dataTable =\n",
              "            await google.colab.kernel.invokeFunction('convertToInteractive',\n",
              "                                                     [key], {});\n",
              "          if (!dataTable) return;\n",
              "\n",
              "          const docLinkHtml = 'Like what you see? Visit the ' +\n",
              "            '<a target=\"_blank\" href=https://colab.research.google.com/notebooks/data_table.ipynb>data table notebook</a>'\n",
              "            + ' to learn more about interactive tables.';\n",
              "          element.innerHTML = '';\n",
              "          dataTable['output_type'] = 'display_data';\n",
              "          await google.colab.output.renderOutput(dataTable, element);\n",
              "          const docLink = document.createElement('div');\n",
              "          docLink.innerHTML = docLinkHtml;\n",
              "          element.appendChild(docLink);\n",
              "        }\n",
              "      </script>\n",
              "    </div>\n",
              "  </div>\n"
            ]
          },
          "metadata": {},
          "execution_count": 90
        }
      ],
      "source": [
        "df = pd.read_csv('/content/drive/MyDrive/Trending Topics on Statistics/Final_Dataku.csv',sep=\";\")\n",
        "df.head()"
      ]
    },
    {
      "cell_type": "markdown",
      "metadata": {
        "id": "3q0ZdPrP1QwG"
      },
      "source": [
        "**Data Preparation**"
      ]
    },
    {
      "cell_type": "code",
      "execution_count": 91,
      "metadata": {
        "colab": {
          "base_uri": "https://localhost:8080/"
        },
        "id": "0pDIlBJO1QwH",
        "outputId": "8370b11c-8b46-4352-fa66-168425d82c18"
      },
      "outputs": [
        {
          "output_type": "stream",
          "name": "stdout",
          "text": [
            "    Brand           Laptop_name  Display_size        Processor_type  \\\n",
            "0      HP  Notebook 14-df0008nx          14.0   Intel Celeron N4000   \n",
            "1  Lenovo    IdeaPad 330S-14IKB          14.0     Intel Core i-820U   \n",
            "2  Huawei      MateBook D Volta          14.0     Intel Core i-820U   \n",
            "3    Dell        Inspiron 1 367           1.6   Intel Core i3-7020U   \n",
            "4    Asus      VivoBook 1 X10UR           1.6     Intel Core i7-80U   \n",
            "\n",
            "                  Graphics_card     Disk_space  Discount_price  Old_price  \\\n",
            "0         Intel HD Graphics 600   64 GB (eMMC)           129.0      129.0   \n",
            "1        Intel UHD Graphics 620       1 TB HDD          1849.0     2099.0   \n",
            "2    NVIDIA GeForce MX10 (2 GB)      26 GB SSD          2999.0     3799.0   \n",
            "3         Intel HD Graphics 620       1 TB HDD          1849.0     1849.0   \n",
            "4   NVIDIA GeForce 930MX (2 GB)       1 TB HDD          2499.0     3149.0   \n",
            "\n",
            "   Rating  \n",
            "0     0.0  \n",
            "1     3.3  \n",
            "2     0.0  \n",
            "3     0.0  \n",
            "4     0.0  \n"
          ]
        }
      ],
      "source": [
        "# Cleaning data\n",
        "# Remove any non-numeric characters (e.g., spaces) from the 'Rating' column\n",
        "df['Rating'] = df['Rating'].str.replace(r'[^\\d.]+', '', regex=True)\n",
        "\n",
        "# Convert the 'Rating' column to float or numeric data type\n",
        "df['Rating'] = pd.to_numeric(df['Rating'], errors='coerce')\n",
        "\n",
        "# The 'coerce' option will turn any invalid parsing (e.g., non-numeric values) into NaN (Not a Number).\n",
        "# If you don't want NaN values, you can choose to drop or fill them with appropriate values.\n",
        "# For example, to drop rows with NaN values:\n",
        "# df.dropna(subset=['Rating'], inplace=True)\n",
        "\n",
        "# Display the DataFrame to verify the changes\n",
        "print(df.head())\n"
      ]
    },
    {
      "cell_type": "code",
      "execution_count": 92,
      "metadata": {
        "colab": {
          "base_uri": "https://localhost:8080/"
        },
        "id": "moSAuHEH1QwH",
        "outputId": "262cdcde-9f33-498d-bdda-e542baf3056b"
      },
      "outputs": [
        {
          "output_type": "stream",
          "name": "stdout",
          "text": [
            "<class 'pandas.core.frame.DataFrame'>\n",
            "RangeIndex: 205 entries, 0 to 204\n",
            "Data columns (total 9 columns):\n",
            " #   Column          Non-Null Count  Dtype  \n",
            "---  ------          --------------  -----  \n",
            " 0   Brand           205 non-null    object \n",
            " 1   Laptop_name     204 non-null    object \n",
            " 2   Display_size    205 non-null    float64\n",
            " 3   Processor_type  205 non-null    object \n",
            " 4   Graphics_card   205 non-null    object \n",
            " 5   Disk_space      205 non-null    object \n",
            " 6   Discount_price  205 non-null    float64\n",
            " 7   Old_price       205 non-null    float64\n",
            " 8   Rating          205 non-null    float64\n",
            "dtypes: float64(4), object(5)\n",
            "memory usage: 14.5+ KB\n"
          ]
        }
      ],
      "source": [
        "df.info()"
      ]
    },
    {
      "cell_type": "code",
      "execution_count": 93,
      "metadata": {
        "colab": {
          "base_uri": "https://localhost:8080/"
        },
        "id": "IqHKz_5Z1QwI",
        "outputId": "f858aaeb-8186-4ba7-c366-fa10117f7922"
      },
      "outputs": [
        {
          "output_type": "execute_result",
          "data": {
            "text/plain": [
              "(205, 9)"
            ]
          },
          "metadata": {},
          "execution_count": 93
        }
      ],
      "source": [
        "df.shape"
      ]
    },
    {
      "cell_type": "code",
      "execution_count": 94,
      "metadata": {
        "colab": {
          "base_uri": "https://localhost:8080/"
        },
        "id": "ybXHpkV01QwI",
        "outputId": "fa22fa9a-ca72-4438-d754-c10db2c9ce63"
      },
      "outputs": [
        {
          "output_type": "execute_result",
          "data": {
            "text/plain": [
              "Brand             0\n",
              "Laptop_name       1\n",
              "Display_size      0\n",
              "Processor_type    0\n",
              "Graphics_card     0\n",
              "Disk_space        0\n",
              "Discount_price    0\n",
              "Old_price         0\n",
              "Rating            0\n",
              "dtype: int64"
            ]
          },
          "metadata": {},
          "execution_count": 94
        }
      ],
      "source": [
        "df.isnull().sum()"
      ]
    },
    {
      "cell_type": "code",
      "execution_count": 95,
      "metadata": {
        "id": "BZPw7fzb1QwJ"
      },
      "outputs": [],
      "source": [
        "df.dropna(inplace=True)"
      ]
    },
    {
      "cell_type": "code",
      "execution_count": 96,
      "metadata": {
        "colab": {
          "base_uri": "https://localhost:8080/"
        },
        "id": "EwO_SU9x1QwJ",
        "outputId": "ee192c93-2cc5-480f-bfe5-829796f179a3"
      },
      "outputs": [
        {
          "output_type": "stream",
          "name": "stdout",
          "text": [
            "['Brand', 'Laptop_name', 'Display_size', 'Processor_type', 'Graphics_card', 'Disk_space', 'Discount_price', 'Old_price']\n"
          ]
        }
      ],
      "source": [
        "# selecting only the relevant columns\n",
        "selected_feature = ['Brand', 'Laptop_name', 'Display_size', 'Processor_type', 'Graphics_card', 'Disk_space', 'Discount_price','Old_price']\n",
        "print(selected_feature)"
      ]
    },
    {
      "cell_type": "code",
      "execution_count": 98,
      "metadata": {
        "id": "se4OGzvU1QwK"
      },
      "outputs": [],
      "source": [
        "# replacing the null values with empty string\n",
        "for feature in selected_feature:\n",
        "    df[feature] = df[feature].fillna('')"
      ]
    },
    {
      "cell_type": "code",
      "source": [
        "# Print the column names in the DataFrame\n",
        "print(df.columns)"
      ],
      "metadata": {
        "colab": {
          "base_uri": "https://localhost:8080/"
        },
        "id": "Ow3ijWEN_RVL",
        "outputId": "fe83d359-aa62-4e9a-81ee-5e0895fcfb51"
      },
      "execution_count": 99,
      "outputs": [
        {
          "output_type": "stream",
          "name": "stdout",
          "text": [
            "Index(['Brand', 'Laptop_name', 'Display_size', 'Processor_type',\n",
            "       'Graphics_card', 'Disk_space', 'Discount_price', 'Old_price', 'Rating'],\n",
            "      dtype='object')\n"
          ]
        }
      ]
    },
    {
      "cell_type": "code",
      "source": [
        "# Convert all columns to string data type before concatenation\n",
        "df['Brand'] = df['Brand'].astype(str)\n",
        "df['Laptop_name'] = df['Laptop_name'].astype(str)\n",
        "df['Display_size'] = df['Display_size'].astype(str)\n",
        "df['Processor_type'] = df['Processor_type'].astype(str)\n",
        "df['Graphics_card'] = df['Graphics_card'].astype(str)\n",
        "df['Disk_space'] = df['Disk_space'].astype(str)\n",
        "\n",
        "# Combine all selected features\n",
        "combined_features = df['Brand'] + ' ' + df['Laptop_name'] + ' ' + df['Display_size'] + ' ' + df['Processor_type'] + ' ' + df['Graphics_card'] + ' ' + df['Disk_space']\n",
        "\n",
        "# Print the combined features\n",
        "print(combined_features)\n"
      ],
      "metadata": {
        "colab": {
          "base_uri": "https://localhost:8080/"
        },
        "id": "QlQIYCuM_qyD",
        "outputId": "bf982e91-5b5a-4f23-c9e5-e805ff891edc"
      },
      "execution_count": 100,
      "outputs": [
        {
          "output_type": "stream",
          "name": "stdout",
          "text": [
            "0      HP Notebook 14-df0008nx 14.0  Intel Celeron N4...\n",
            "1      Lenovo IdeaPad 330S-14IKB 14.0  Intel Core i-8...\n",
            "2      Huawei MateBook D Volta 14.0  Intel Core i-820...\n",
            "3      Dell Inspiron 1 367 1.6  Intel Core i3-7020U  ...\n",
            "4      Asus VivoBook 1 X10UR 1.6  Intel Core i7-80U  ...\n",
            "                             ...                        \n",
            "200    Lenovo IdeaPad 320-1IKBRN 1.6  Intel Core i-82...\n",
            "201    Huawei MateBook D 1.6  Intel Core i7-80U  NVID...\n",
            "202    Apple MacBook Pro (Retina + Touch Bar) 1.4  In...\n",
            "203    Apple MacBook Pro (Retina + Touch Bar) 1.4  In...\n",
            "204    Dell Inspiron 1 376 1.6  Intel Core i-820U  AM...\n",
            "Length: 204, dtype: object\n"
          ]
        }
      ]
    },
    {
      "cell_type": "code",
      "source": [
        "# Replace NaN values with empty strings in 'Laptop_name' column\n",
        "df['Laptop_name'] = df['Laptop_name'].fillna('')"
      ],
      "metadata": {
        "id": "Mdzpzv6WB8cC"
      },
      "execution_count": 101,
      "outputs": []
    },
    {
      "cell_type": "code",
      "execution_count": 102,
      "metadata": {
        "colab": {
          "base_uri": "https://localhost:8080/"
        },
        "id": "QdWT9J1F1QwL",
        "outputId": "4447bd04-d0b3-474f-84c1-8a2f0c948823"
      },
      "outputs": [
        {
          "output_type": "stream",
          "name": "stdout",
          "text": [
            "0      HP Notebook 14-df0008nx 14.0  Intel Celeron N4...\n",
            "1      Lenovo IdeaPad 330S-14IKB 14.0  Intel Core i-8...\n",
            "2      Huawei MateBook D Volta 14.0  Intel Core i-820...\n",
            "3      Dell Inspiron 1 367 1.6  Intel Core i3-7020U  ...\n",
            "4      Asus VivoBook 1 X10UR 1.6  Intel Core i7-80U  ...\n",
            "                             ...                        \n",
            "200    Lenovo IdeaPad 320-1IKBRN 1.6  Intel Core i-82...\n",
            "201    Huawei MateBook D 1.6  Intel Core i7-80U  NVID...\n",
            "202    Apple MacBook Pro (Retina + Touch Bar) 1.4  In...\n",
            "203    Apple MacBook Pro (Retina + Touch Bar) 1.4  In...\n",
            "204    Dell Inspiron 1 376 1.6  Intel Core i-820U  AM...\n",
            "Length: 204, dtype: object\n"
          ]
        }
      ],
      "source": [
        "print(combined_features)"
      ]
    },
    {
      "cell_type": "code",
      "execution_count": 103,
      "metadata": {
        "id": "JYBZ8fvW1QwM"
      },
      "outputs": [],
      "source": [
        "# converting text data to feature vectors\n",
        "vectorizer = TfidfVectorizer()"
      ]
    },
    {
      "cell_type": "code",
      "execution_count": 104,
      "metadata": {
        "id": "hMcOx2rt1QwM"
      },
      "outputs": [],
      "source": [
        "feature_vectors = vectorizer.fit_transform(combined_features)"
      ]
    },
    {
      "cell_type": "code",
      "execution_count": 105,
      "metadata": {
        "colab": {
          "base_uri": "https://localhost:8080/"
        },
        "id": "mA_AO9ev1QwN",
        "outputId": "49c5d30f-2421-451c-dd15-6c44395deb1e"
      },
      "outputs": [
        {
          "output_type": "stream",
          "name": "stdout",
          "text": [
            "  (0, 159)\t0.30556813668604\n",
            "  (0, 163)\t0.08792847505097365\n",
            "  (0, 60)\t0.2842615329061462\n",
            "  (0, 53)\t0.29070585847033914\n",
            "  (0, 167)\t0.13754257671674894\n",
            "  (0, 172)\t0.19147812109195236\n",
            "  (0, 200)\t0.2842615329061462\n",
            "  (0, 136)\t0.25846488640186555\n",
            "  (0, 181)\t0.14885037900743944\n",
            "  (0, 157)\t0.41696465463478216\n",
            "  (0, 8)\t0.3571299645440364\n",
            "  (0, 201)\t0.41696465463478216\n",
            "  (0, 174)\t0.18158838256712642\n",
            "  (1, 173)\t0.15522840241681268\n",
            "  (1, 236)\t0.15608207364307716\n",
            "  (1, 59)\t0.25951404686077595\n",
            "  (1, 240)\t0.2571174950593634\n",
            "  (1, 76)\t0.26448768756964164\n",
            "  (1, 140)\t0.10806145712762384\n",
            "  (1, 10)\t0.4687745802923902\n",
            "  (1, 34)\t0.43531171406906033\n",
            "  (1, 179)\t0.31277245321042113\n",
            "  (1, 183)\t0.31277245321042113\n",
            "  (1, 167)\t0.18469265620398415\n",
            "  (1, 181)\t0.1998768129265825\n",
            "  :\t:\n",
            "  (202, 117)\t0.27124459223705044\n",
            "  (202, 239)\t0.27124459223705044\n",
            "  (202, 5)\t0.23920503233395357\n",
            "  (202, 209)\t0.48437449156920487\n",
            "  (202, 215)\t0.21647260281277508\n",
            "  (202, 189)\t0.2101476858815056\n",
            "  (202, 114)\t0.2101476858815056\n",
            "  (202, 213)\t0.22334817895869213\n",
            "  (202, 177)\t0.15742826062609905\n",
            "  (202, 231)\t0.12469857164176266\n",
            "  (202, 140)\t0.1717196392544682\n",
            "  (202, 163)\t0.18762519664322855\n",
            "  (202, 181)\t0.07940568062706516\n",
            "  (203, 40)\t0.561855676287797\n",
            "  (203, 21)\t0.4117499893129201\n",
            "  (203, 213)\t0.2820826162604078\n",
            "  (203, 111)\t0.3058758402881725\n",
            "  (203, 180)\t0.33205957806653424\n",
            "  (203, 156)\t0.2762103827591145\n",
            "  (203, 173)\t0.15577015331329566\n",
            "  (203, 236)\t0.156626803872884\n",
            "  (203, 76)\t0.2654107560263073\n",
            "  (203, 140)\t0.10843859423889135\n",
            "  (203, 163)\t0.11848273532439217\n",
            "  (203, 181)\t0.1002871939303502\n"
          ]
        }
      ],
      "source": [
        "print(feature_vectors)"
      ]
    },
    {
      "cell_type": "markdown",
      "metadata": {
        "id": "L95_GENK1QwN"
      },
      "source": [
        "**Cosine Similarity**"
      ]
    },
    {
      "cell_type": "code",
      "execution_count": 106,
      "metadata": {
        "colab": {
          "base_uri": "https://localhost:8080/"
        },
        "id": "Jv6d8o5w1QwO",
        "outputId": "3b9959ab-e18f-40e6-ac4e-4c9622afbb27"
      },
      "outputs": [
        {
          "output_type": "stream",
          "name": "stdout",
          "text": [
            "[[1.         0.14078664 0.12087332 ... 0.03110483 0.02831716 0.02534579]\n",
            " [0.14078664 1.         0.15857772 ... 0.03781683 0.03442763 0.15058758]\n",
            " [0.12087332 0.15857772 1.         ... 0.15155274 0.0900721  0.11952368]\n",
            " ...\n",
            " [0.03110483 0.03781683 0.15155274 ... 1.         0.86843695 0.12282518]\n",
            " [0.02831716 0.03442763 0.0900721  ... 0.86843695 1.         0.11181739]\n",
            " [0.02534579 0.15058758 0.11952368 ... 0.12282518 0.11181739 1.        ]]\n"
          ]
        }
      ],
      "source": [
        "# getting the similarity scores\n",
        "similarity = cosine_similarity(feature_vectors)\n",
        "print(similarity)"
      ]
    },
    {
      "cell_type": "code",
      "execution_count": 107,
      "metadata": {
        "colab": {
          "base_uri": "https://localhost:8080/"
        },
        "id": "JsNIr5wA1QwO",
        "outputId": "ed4c2121-017d-4a16-a46b-b5da3d57f202"
      },
      "outputs": [
        {
          "output_type": "stream",
          "name": "stdout",
          "text": [
            "(204, 204)\n"
          ]
        }
      ],
      "source": [
        "print(similarity.shape)"
      ]
    },
    {
      "cell_type": "code",
      "execution_count": 108,
      "metadata": {
        "id": "1HUpGFYX1QwO"
      },
      "outputs": [],
      "source": [
        "# Create a DataFrame to store the similarity scores\n",
        "df_similarity = pd.DataFrame(similarity)"
      ]
    },
    {
      "cell_type": "code",
      "source": [
        "print(df_similarity)"
      ],
      "metadata": {
        "colab": {
          "base_uri": "https://localhost:8080/"
        },
        "id": "Kn1oM61J93TX",
        "outputId": "ec68845f-4e8d-4e5f-e15e-fcc09bc56c49"
      },
      "execution_count": 109,
      "outputs": [
        {
          "output_type": "stream",
          "name": "stdout",
          "text": [
            "          0         1         2         3         4         5         6    \\\n",
            "0    1.000000  0.140787  0.120873  0.109869  0.023454  0.108969  0.064995   \n",
            "1    0.140787  1.000000  0.158578  0.212128  0.074389  0.123644  0.162174   \n",
            "2    0.120873  0.158578  1.000000  0.033206  0.122525  0.142896  0.094738   \n",
            "3    0.109869  0.212128  0.033206  1.000000  0.078296  0.147415  0.101685   \n",
            "4    0.023454  0.074389  0.122525  0.078296  1.000000  0.186627  0.052741   \n",
            "..        ...       ...       ...       ...       ...       ...       ...   \n",
            "199  0.075663  0.350315  0.097014  0.167567  0.071261  0.068956  0.060142   \n",
            "200  0.040093  0.090121  0.615247  0.094854  0.320183  0.347254  0.182065   \n",
            "201  0.031105  0.037817  0.151553  0.039803  0.081434  0.181950  0.288515   \n",
            "202  0.028317  0.034428  0.090072  0.036236  0.074136  0.165644  0.262658   \n",
            "203  0.025346  0.150588  0.119524  0.280281  0.078332  0.311710  0.056995   \n",
            "\n",
            "          7         8         9    ...       194       195       196  \\\n",
            "0    0.041586  0.032763  0.201371  ...  0.064117  0.063208  0.060701   \n",
            "1    0.175102  0.093407  0.212491  ...  0.095307  0.063360  0.090229   \n",
            "2    0.719513  0.622284  0.209650  ...  0.152437  0.126338  0.144316   \n",
            "3    0.098385  0.030626  0.067597  ...  0.100312  0.066687  0.094968   \n",
            "4    0.195943  0.113007  0.072959  ...  0.052029  0.161646  0.049257   \n",
            "..        ...       ...       ...  ...       ...       ...       ...   \n",
            "199  0.167739  0.089479  0.115247  ...  0.059330  0.060696  0.056169   \n",
            "200  0.872277  0.567457  0.113533  ...  0.105484  0.220638  0.099864   \n",
            "201  0.115827  0.288870  0.117635  ...  0.693952  0.088606  0.468561   \n",
            "202  0.105447  0.218804  0.107092  ...  0.584743  0.080665  0.382057   \n",
            "203  0.196665  0.110240  0.273437  ...  0.056226  0.077783  0.053230   \n",
            "\n",
            "          197       198       199       200       201       202       203  \n",
            "0    0.140257  0.023841  0.075663  0.040093  0.031105  0.028317  0.025346  \n",
            "1    0.135001  0.075618  0.350315  0.090121  0.037817  0.034428  0.150588  \n",
            "2    0.073978  0.046614  0.097014  0.615247  0.151553  0.090072  0.119524  \n",
            "3    0.203451  0.440595  0.167567  0.094854  0.039803  0.036236  0.280281  \n",
            "4    0.140241  0.073683  0.071261  0.320183  0.081434  0.074136  0.078332  \n",
            "..        ...       ...       ...       ...       ...       ...       ...  \n",
            "199  0.099462  0.072438  1.000000  0.086331  0.036227  0.032980  0.144255  \n",
            "200  0.208164  0.104068  0.086331  1.000000  0.150214  0.136751  0.110635  \n",
            "201  0.103981  0.115534  0.036227  0.150214  1.000000  0.868437  0.122825  \n",
            "202  0.158169  0.105180  0.032980  0.136751  0.868437  1.000000  0.111817  \n",
            "203  0.040347  0.417961  0.144255  0.110635  0.122825  0.111817  1.000000  \n",
            "\n",
            "[204 rows x 204 columns]\n"
          ]
        }
      ]
    },
    {
      "cell_type": "code",
      "execution_count": 110,
      "metadata": {
        "id": "vc3xlGto1QwP"
      },
      "outputs": [],
      "source": [
        "# write to csv\n",
        "df_similarity.to_csv('/content/drive/MyDrive/Trending Topics on Statistics/cosine_sim.csv', index=False)"
      ]
    },
    {
      "cell_type": "markdown",
      "metadata": {
        "id": "nNn1xveW1QwP"
      },
      "source": [
        "**Getting KDRAMA Name**"
      ]
    },
    {
      "cell_type": "code",
      "source": [
        "\n",
        "# User input for laptop search\n",
        "laptop_name_input = input(\"Enter the name of the laptop you want to search: \")\n",
        "\n",
        "# Preprocess the input (if needed)\n",
        "laptop_name_input = laptop_name_input.lower()  # Convert to lowercase\n",
        "\n",
        "# Search for the index of the closest laptop name using difflib\n",
        "closest_match = difflib.get_close_matches(laptop_name_input, df['Laptop_name'], n=1)\n",
        "if closest_match:\n",
        "    closest_index = df[df['Laptop_name'] == closest_match[0]].index[0]\n",
        "\n",
        "    # Get similarity scores for the searched laptop\n",
        "    similar_scores = df_similarity.iloc[closest_index].sort_values(ascending=False)\n",
        "\n",
        "    # Get the top 5 most similar laptops (excluding the laptop itself)\n",
        "    top_similar_laptops = similar_scores.iloc[1:6]\n",
        "\n",
        "    # Display the results\n",
        "    print(\"Top 5 most similar laptops:\")\n",
        "    print(df.iloc[top_similar_laptops.index]['Laptop_name'])\n",
        "else:\n",
        "    print(\"Laptop not found in the dataset.\")\n"
      ],
      "metadata": {
        "colab": {
          "base_uri": "https://localhost:8080/"
        },
        "id": "PYwBDozuCgry",
        "outputId": "570373ec-1b15-4644-f82a-e1efb8c55ec8"
      },
      "execution_count": 133,
      "outputs": [
        {
          "output_type": "stream",
          "name": "stdout",
          "text": [
            "Enter the name of the laptop you want to search: MateBook D Volta\n",
            "Top 5 most similar laptops:\n",
            "28    MateBook D Volta\n",
            "7           MateBook D\n",
            "55          MateBook D\n",
            "8       MateBook X Pro\n",
            "44          MateBook D\n",
            "Name: Laptop_name, dtype: object\n"
          ]
        }
      ]
    },
    {
      "cell_type": "code",
      "execution_count": 145,
      "metadata": {
        "colab": {
          "base_uri": "https://localhost:8080/"
        },
        "id": "O4e8Kte61QwQ",
        "outputId": "29f0e4c2-d780-4662-b45e-3f525ee55845"
      },
      "outputs": [
        {
          "output_type": "stream",
          "name": "stdout",
          "text": [
            "['MateBook D Volta']\n"
          ]
        }
      ],
      "source": [
        "# finding close matches for kdrama\n",
        "find_close_matches = difflib.get_close_matches(laptop_name_input, closest_match )\n",
        "print(find_close_matches)"
      ]
    },
    {
      "cell_type": "code",
      "execution_count": 146,
      "metadata": {
        "colab": {
          "base_uri": "https://localhost:8080/"
        },
        "id": "whaWpiTh1QwQ",
        "outputId": "ec58d24d-27b4-4cad-f93b-aff01145f648"
      },
      "outputs": [
        {
          "output_type": "stream",
          "name": "stdout",
          "text": [
            "MateBook D Volta\n"
          ]
        }
      ],
      "source": [
        "close_matches = find_close_matches[0]\n",
        "print(close_matches)"
      ]
    },
    {
      "cell_type": "code",
      "execution_count": 147,
      "metadata": {
        "colab": {
          "base_uri": "https://localhost:8080/"
        },
        "id": "WQxKRXPp1QwR",
        "outputId": "c9bdc038-24a2-4c02-d4d5-8141f4a3f633"
      },
      "outputs": [
        {
          "output_type": "stream",
          "name": "stdout",
          "text": [
            "Indeks laptop terdekat: 2\n"
          ]
        }
      ],
      "source": [
        "# finding the index of the movie\n",
        "index_of_laptop = df[df['Laptop_name'] == close_matches].index[0]\n",
        "print(\"Indeks laptop terdekat:\", index_of_laptop)"
      ]
    },
    {
      "cell_type": "code",
      "execution_count": 148,
      "metadata": {
        "colab": {
          "base_uri": "https://localhost:8080/"
        },
        "id": "tqZuEWDW1QwR",
        "outputId": "a17e82c1-dd2f-4e52-edf1-e40ff48c8788"
      },
      "outputs": [
        {
          "output_type": "stream",
          "name": "stdout",
          "text": [
            "[(0, 0.120873323745086), (1, 0.15857771969253168), (2, 1.0000000000000002), (3, 0.03320557288087525), (4, 0.12252455299681561), (5, 0.14289606854139425), (6, 0.09473797682089045), (7, 0.7195128394500737), (8, 0.6222838985733872), (9, 0.20964994594910474), (10, 0.0), (11, 0.15432234027424846), (12, 0.06237712524767084), (13, 0.10687152907156103), (14, 0.15155273507648512), (15, 0.279694148910013), (16, 0.08560210804506639), (17, 0.14134375967199125), (18, 0.5534649659156857), (19, 0.15504755850286894), (20, 0.12741181267496482), (21, 0.12590525431003605), (22, 0.15504755850286894), (23, 0.15504755850286894), (24, 0.40082373367715857), (25, 0.09473797682089045), (26, 0.40082373367715857), (27, 0.09473797682089045), (28, 0.90577613470096), (29, 0.334078897732376), (30, 0.33787602529387495), (31, 0.5037843636223869), (32, 0.2565093564360004), (33, 0.14290574260579184), (34, 0.2991539028688831), (35, 0.2991539028688831), (36, 0.21592877364558322), (37, 0.22795199667516147), (38, 0.2406836114423106), (39, 0.2875291504211646), (40, 0.22592765620450883), (41, 0.24645519635158025), (42, 0.1426567232857267), (43, 0.6152471786224447), (44, 0.6152471786224447), (45, 0.36888333650142185), (46, 0.25088089508471223), (47, 0.07277992744229873), (48, 0.1479974670268412), (49, 0.1479974670268412), (50, 0.13671142074981857), (51, 0.17567208536172754), (52, 0.05021405560336263), (53, 0.10911908733460521), (54, 0.0497527472021108), (55, 0.7195128394500737), (56, 0.09880818638388686), (57, 0.1768455128156414), (58, 0.18183232715096298), (59, 0.3019207497869781), (60, 0.08589143808799041), (61, 0.08589143808799041), (62, 0.04072684517522557), (63, 0.05021405560336263), (64, 0.09561108522854661), (65, 0.19311209013301772), (66, 0.036257171289664644), (67, 0.09561108522854661), (68, 0.04162749617015944), (69, 0.0309647447625839), (70, 0.10635244835056235), (71, 0.029357555379781096), (72, 0.19785607695080576), (73, 0.01985136835201146), (74, 0.07899675427685798), (75, 0.11767032741961637), (76, 0.1689465540483595), (77, 0.21999830059450565), (78, 0.4414150965593383), (79, 0.03213807417308549), (80, 0.03213807417308549), (81, 0.03541402430473312), (82, 0.1203534708063055), (83, 0.01970257586623641), (84, 0.033118190763356314), (85, 0.04257261005953193), (86, 0.04366113909344824), (87, 0.23895015707940895), (88, 0.07427555229830451), (89, 0.03630645358994421), (90, 0.03637278389602966), (91, 0.03637278389602966), (92, 0.1189096567843927), (93, 0.1569710240764792), (94, 0.1932580248822911), (95, 0.13959849515199557), (96, 0.08168174087137227), (97, 0.08168174087137227), (98, 0.13356334779825774), (99, 0.09473797682089045), (100, 0.09473797682089045), (101, 0.09473797682089045), (102, 0.15504755850286894), (103, 0.15504755850286894), (104, 0.15504755850286894), (105, 0.13356334779825774), (106, 0.11094425084248066), (107, 0.08822047160736476), (108, 0.07452458948828576), (109, 0.14134071905244205), (110, 0.22908186201788852), (111, 0.07427555229830451), (112, 0.07758683905983677), (113, 0.0524151469466083), (114, 0.17224086605565345), (115, 0.10328222004056549), (116, 0.053932407991439835), (117, 0.22908186201788852), (118, 0.14431589456119687), (119, 0.03995407918602463), (120, 0.21396104145581848), (121, 0.18862238894711264), (122, 0.21033213013443228), (123, 0.20715103317847286), (124, 0.14354035871106915), (125, 0.21104853669448173), (126, 0.20961228224694656), (127, 0.15947836209105176), (128, 0.2228900175963176), (129, 0.12235928906678392), (130, 0.2556390112061512), (131, 0.15155273507648512), (132, 0.07533614143557675), (133, 0.14134375967199125), (134, 0.08560210804506639), (135, 0.1154233510605092), (136, 0.17067350468530693), (137, 0.13827520283377678), (138, 0.09199067804207425), (139, 0.20447597584750493), (140, 0.12581465095028158), (141, 0.14378385400705743), (142, 0.04804486561924275), (143, 0.30479751275316874), (144, 0.09007210163149382), (145, 0.07147609648458761), (146, 0.1426567232857267), (147, 0.2684083378681643), (148, 0.17567208536172754), (149, 0.3550490689284843), (150, 0.1991091011786933), (151, 0.1991091011786933), (152, 0.21881213554593934), (153, 0.2455292079265699), (154, 0.0535022778975284), (155, 0.03241868223956075), (156, 0.08822047160736476), (157, 0.11767032741961637), (158, 0.029357555379781096), (159, 0.10727228759848648), (160, 0.07599273785404013), (161, 0.15857771969253168), (162, 0.07783031314189207), (163, 0.2254626136685771), (164, 0.1475422623380891), (165, 0.1392025864692759), (166, 0.033030847552296655), (167, 0.03604068353007194), (168, 0.0774162322630079), (169, 0.2684083378681643), (170, 0.031019399497607132), (171, 0.04484393811637234), (172, 0.207350413932528), (173, 0.2591461609770364), (174, 0.047151160014258245), (175, 0.039172004112977894), (176, 0.12505063373310152), (177, 0.1614523531895394), (178, 0.031019399497607132), (179, 0.1436918677775486), (180, 0.05464722851259647), (181, 0.07357337243805627), (182, 0.19034863838403), (183, 0.12129686616121492), (184, 0.21396104145581848), (185, 0.12091115746252457), (186, 0.1286112391100679), (187, 0.11073182952355562), (188, 0.07591075344103025), (189, 0.3845724641585434), (190, 0.12633788406054552), (191, 0.03241868223956075), (192, 0.047545542856131544), (193, 0.12104929719922403), (194, 0.15243727129947052), (195, 0.12633788406054552), (196, 0.14431589456119687), (197, 0.07397827042123856), (198, 0.04661441993563102), (199, 0.09701447947125291), (200, 0.6152471786224447), (201, 0.15155273507648512), (202, 0.09007210163149382), (203, 0.11952367572257784)]\n"
          ]
        }
      ],
      "source": [
        "# Mengindeks similarity menggunakan integer index_of_laptop\n",
        "similarity_scores = list(enumerate(similarity[index_of_laptop]))\n",
        "print(similarity_scores)"
      ]
    },
    {
      "cell_type": "code",
      "source": [
        "print(\"Daftar skor kesamaan laptop terdekat:\")\n",
        "print(similarity_scores)"
      ],
      "metadata": {
        "colab": {
          "base_uri": "https://localhost:8080/"
        },
        "id": "ywl-z8DFE50M",
        "outputId": "0c734b97-7a15-4fb6-fef2-f5f39489273f"
      },
      "execution_count": 149,
      "outputs": [
        {
          "output_type": "stream",
          "name": "stdout",
          "text": [
            "Daftar skor kesamaan laptop terdekat:\n",
            "[(0, 0.120873323745086), (1, 0.15857771969253168), (2, 1.0000000000000002), (3, 0.03320557288087525), (4, 0.12252455299681561), (5, 0.14289606854139425), (6, 0.09473797682089045), (7, 0.7195128394500737), (8, 0.6222838985733872), (9, 0.20964994594910474), (10, 0.0), (11, 0.15432234027424846), (12, 0.06237712524767084), (13, 0.10687152907156103), (14, 0.15155273507648512), (15, 0.279694148910013), (16, 0.08560210804506639), (17, 0.14134375967199125), (18, 0.5534649659156857), (19, 0.15504755850286894), (20, 0.12741181267496482), (21, 0.12590525431003605), (22, 0.15504755850286894), (23, 0.15504755850286894), (24, 0.40082373367715857), (25, 0.09473797682089045), (26, 0.40082373367715857), (27, 0.09473797682089045), (28, 0.90577613470096), (29, 0.334078897732376), (30, 0.33787602529387495), (31, 0.5037843636223869), (32, 0.2565093564360004), (33, 0.14290574260579184), (34, 0.2991539028688831), (35, 0.2991539028688831), (36, 0.21592877364558322), (37, 0.22795199667516147), (38, 0.2406836114423106), (39, 0.2875291504211646), (40, 0.22592765620450883), (41, 0.24645519635158025), (42, 0.1426567232857267), (43, 0.6152471786224447), (44, 0.6152471786224447), (45, 0.36888333650142185), (46, 0.25088089508471223), (47, 0.07277992744229873), (48, 0.1479974670268412), (49, 0.1479974670268412), (50, 0.13671142074981857), (51, 0.17567208536172754), (52, 0.05021405560336263), (53, 0.10911908733460521), (54, 0.0497527472021108), (55, 0.7195128394500737), (56, 0.09880818638388686), (57, 0.1768455128156414), (58, 0.18183232715096298), (59, 0.3019207497869781), (60, 0.08589143808799041), (61, 0.08589143808799041), (62, 0.04072684517522557), (63, 0.05021405560336263), (64, 0.09561108522854661), (65, 0.19311209013301772), (66, 0.036257171289664644), (67, 0.09561108522854661), (68, 0.04162749617015944), (69, 0.0309647447625839), (70, 0.10635244835056235), (71, 0.029357555379781096), (72, 0.19785607695080576), (73, 0.01985136835201146), (74, 0.07899675427685798), (75, 0.11767032741961637), (76, 0.1689465540483595), (77, 0.21999830059450565), (78, 0.4414150965593383), (79, 0.03213807417308549), (80, 0.03213807417308549), (81, 0.03541402430473312), (82, 0.1203534708063055), (83, 0.01970257586623641), (84, 0.033118190763356314), (85, 0.04257261005953193), (86, 0.04366113909344824), (87, 0.23895015707940895), (88, 0.07427555229830451), (89, 0.03630645358994421), (90, 0.03637278389602966), (91, 0.03637278389602966), (92, 0.1189096567843927), (93, 0.1569710240764792), (94, 0.1932580248822911), (95, 0.13959849515199557), (96, 0.08168174087137227), (97, 0.08168174087137227), (98, 0.13356334779825774), (99, 0.09473797682089045), (100, 0.09473797682089045), (101, 0.09473797682089045), (102, 0.15504755850286894), (103, 0.15504755850286894), (104, 0.15504755850286894), (105, 0.13356334779825774), (106, 0.11094425084248066), (107, 0.08822047160736476), (108, 0.07452458948828576), (109, 0.14134071905244205), (110, 0.22908186201788852), (111, 0.07427555229830451), (112, 0.07758683905983677), (113, 0.0524151469466083), (114, 0.17224086605565345), (115, 0.10328222004056549), (116, 0.053932407991439835), (117, 0.22908186201788852), (118, 0.14431589456119687), (119, 0.03995407918602463), (120, 0.21396104145581848), (121, 0.18862238894711264), (122, 0.21033213013443228), (123, 0.20715103317847286), (124, 0.14354035871106915), (125, 0.21104853669448173), (126, 0.20961228224694656), (127, 0.15947836209105176), (128, 0.2228900175963176), (129, 0.12235928906678392), (130, 0.2556390112061512), (131, 0.15155273507648512), (132, 0.07533614143557675), (133, 0.14134375967199125), (134, 0.08560210804506639), (135, 0.1154233510605092), (136, 0.17067350468530693), (137, 0.13827520283377678), (138, 0.09199067804207425), (139, 0.20447597584750493), (140, 0.12581465095028158), (141, 0.14378385400705743), (142, 0.04804486561924275), (143, 0.30479751275316874), (144, 0.09007210163149382), (145, 0.07147609648458761), (146, 0.1426567232857267), (147, 0.2684083378681643), (148, 0.17567208536172754), (149, 0.3550490689284843), (150, 0.1991091011786933), (151, 0.1991091011786933), (152, 0.21881213554593934), (153, 0.2455292079265699), (154, 0.0535022778975284), (155, 0.03241868223956075), (156, 0.08822047160736476), (157, 0.11767032741961637), (158, 0.029357555379781096), (159, 0.10727228759848648), (160, 0.07599273785404013), (161, 0.15857771969253168), (162, 0.07783031314189207), (163, 0.2254626136685771), (164, 0.1475422623380891), (165, 0.1392025864692759), (166, 0.033030847552296655), (167, 0.03604068353007194), (168, 0.0774162322630079), (169, 0.2684083378681643), (170, 0.031019399497607132), (171, 0.04484393811637234), (172, 0.207350413932528), (173, 0.2591461609770364), (174, 0.047151160014258245), (175, 0.039172004112977894), (176, 0.12505063373310152), (177, 0.1614523531895394), (178, 0.031019399497607132), (179, 0.1436918677775486), (180, 0.05464722851259647), (181, 0.07357337243805627), (182, 0.19034863838403), (183, 0.12129686616121492), (184, 0.21396104145581848), (185, 0.12091115746252457), (186, 0.1286112391100679), (187, 0.11073182952355562), (188, 0.07591075344103025), (189, 0.3845724641585434), (190, 0.12633788406054552), (191, 0.03241868223956075), (192, 0.047545542856131544), (193, 0.12104929719922403), (194, 0.15243727129947052), (195, 0.12633788406054552), (196, 0.14431589456119687), (197, 0.07397827042123856), (198, 0.04661441993563102), (199, 0.09701447947125291), (200, 0.6152471786224447), (201, 0.15155273507648512), (202, 0.09007210163149382), (203, 0.11952367572257784)]\n"
          ]
        }
      ]
    },
    {
      "cell_type": "code",
      "execution_count": 150,
      "metadata": {
        "colab": {
          "base_uri": "https://localhost:8080/"
        },
        "id": "OdNnhKVv1QwR",
        "outputId": "8c87cf20-83ab-4d18-c13c-c670e71162bc"
      },
      "outputs": [
        {
          "output_type": "execute_result",
          "data": {
            "text/plain": [
              "204"
            ]
          },
          "metadata": {},
          "execution_count": 150
        }
      ],
      "source": [
        "len(similarity_scores)"
      ]
    },
    {
      "cell_type": "code",
      "execution_count": 151,
      "metadata": {
        "colab": {
          "base_uri": "https://localhost:8080/"
        },
        "id": "9vjp5OB81QwR",
        "outputId": "9a8f4885-5bdc-4589-a04a-ce72dd53e879"
      },
      "outputs": [
        {
          "output_type": "stream",
          "name": "stdout",
          "text": [
            "[(2, 1.0000000000000002), (28, 0.90577613470096), (7, 0.7195128394500737), (55, 0.7195128394500737), (8, 0.6222838985733872), (43, 0.6152471786224447), (44, 0.6152471786224447), (200, 0.6152471786224447), (18, 0.5534649659156857), (31, 0.5037843636223869), (78, 0.4414150965593383), (24, 0.40082373367715857), (26, 0.40082373367715857), (189, 0.3845724641585434), (45, 0.36888333650142185), (149, 0.3550490689284843), (30, 0.33787602529387495), (29, 0.334078897732376), (143, 0.30479751275316874), (59, 0.3019207497869781), (34, 0.2991539028688831), (35, 0.2991539028688831), (39, 0.2875291504211646), (15, 0.279694148910013), (147, 0.2684083378681643), (169, 0.2684083378681643), (173, 0.2591461609770364), (32, 0.2565093564360004), (130, 0.2556390112061512), (46, 0.25088089508471223), (41, 0.24645519635158025), (153, 0.2455292079265699), (38, 0.2406836114423106), (87, 0.23895015707940895), (110, 0.22908186201788852), (117, 0.22908186201788852), (37, 0.22795199667516147), (40, 0.22592765620450883), (163, 0.2254626136685771), (128, 0.2228900175963176), (77, 0.21999830059450565), (152, 0.21881213554593934), (36, 0.21592877364558322), (120, 0.21396104145581848), (184, 0.21396104145581848), (125, 0.21104853669448173), (122, 0.21033213013443228), (9, 0.20964994594910474), (126, 0.20961228224694656), (172, 0.207350413932528), (123, 0.20715103317847286), (139, 0.20447597584750493), (150, 0.1991091011786933), (151, 0.1991091011786933), (72, 0.19785607695080576), (94, 0.1932580248822911), (65, 0.19311209013301772), (182, 0.19034863838403), (121, 0.18862238894711264), (58, 0.18183232715096298), (57, 0.1768455128156414), (51, 0.17567208536172754), (148, 0.17567208536172754), (114, 0.17224086605565345), (136, 0.17067350468530693), (76, 0.1689465540483595), (177, 0.1614523531895394), (127, 0.15947836209105176), (1, 0.15857771969253168), (161, 0.15857771969253168), (93, 0.1569710240764792), (19, 0.15504755850286894), (22, 0.15504755850286894), (23, 0.15504755850286894), (102, 0.15504755850286894), (103, 0.15504755850286894), (104, 0.15504755850286894), (11, 0.15432234027424846), (194, 0.15243727129947052), (14, 0.15155273507648512), (131, 0.15155273507648512), (201, 0.15155273507648512), (48, 0.1479974670268412), (49, 0.1479974670268412), (164, 0.1475422623380891), (118, 0.14431589456119687), (196, 0.14431589456119687), (141, 0.14378385400705743), (179, 0.1436918677775486), (124, 0.14354035871106915), (33, 0.14290574260579184), (5, 0.14289606854139425), (42, 0.1426567232857267), (146, 0.1426567232857267), (17, 0.14134375967199125), (133, 0.14134375967199125), (109, 0.14134071905244205), (95, 0.13959849515199557), (165, 0.1392025864692759), (137, 0.13827520283377678), (50, 0.13671142074981857), (98, 0.13356334779825774), (105, 0.13356334779825774), (186, 0.1286112391100679), (20, 0.12741181267496482), (190, 0.12633788406054552), (195, 0.12633788406054552), (21, 0.12590525431003605), (140, 0.12581465095028158), (176, 0.12505063373310152), (4, 0.12252455299681561), (129, 0.12235928906678392), (183, 0.12129686616121492), (193, 0.12104929719922403), (185, 0.12091115746252457), (0, 0.120873323745086), (82, 0.1203534708063055), (203, 0.11952367572257784), (92, 0.1189096567843927), (75, 0.11767032741961637), (157, 0.11767032741961637), (135, 0.1154233510605092), (106, 0.11094425084248066), (187, 0.11073182952355562), (53, 0.10911908733460521), (159, 0.10727228759848648), (13, 0.10687152907156103), (70, 0.10635244835056235), (115, 0.10328222004056549), (56, 0.09880818638388686), (199, 0.09701447947125291), (64, 0.09561108522854661), (67, 0.09561108522854661), (6, 0.09473797682089045), (25, 0.09473797682089045), (27, 0.09473797682089045), (99, 0.09473797682089045), (100, 0.09473797682089045), (101, 0.09473797682089045), (138, 0.09199067804207425), (144, 0.09007210163149382), (202, 0.09007210163149382), (107, 0.08822047160736476), (156, 0.08822047160736476), (60, 0.08589143808799041), (61, 0.08589143808799041), (16, 0.08560210804506639), (134, 0.08560210804506639), (96, 0.08168174087137227), (97, 0.08168174087137227), (74, 0.07899675427685798), (162, 0.07783031314189207), (112, 0.07758683905983677), (168, 0.0774162322630079), (160, 0.07599273785404013), (188, 0.07591075344103025), (132, 0.07533614143557675), (108, 0.07452458948828576), (88, 0.07427555229830451), (111, 0.07427555229830451), (197, 0.07397827042123856), (181, 0.07357337243805627), (47, 0.07277992744229873), (145, 0.07147609648458761), (12, 0.06237712524767084), (180, 0.05464722851259647), (116, 0.053932407991439835), (154, 0.0535022778975284), (113, 0.0524151469466083), (52, 0.05021405560336263), (63, 0.05021405560336263), (54, 0.0497527472021108), (142, 0.04804486561924275), (192, 0.047545542856131544), (174, 0.047151160014258245), (198, 0.04661441993563102), (171, 0.04484393811637234), (86, 0.04366113909344824), (85, 0.04257261005953193), (68, 0.04162749617015944), (62, 0.04072684517522557), (119, 0.03995407918602463), (175, 0.039172004112977894), (90, 0.03637278389602966), (91, 0.03637278389602966), (89, 0.03630645358994421), (66, 0.036257171289664644), (167, 0.03604068353007194), (81, 0.03541402430473312), (3, 0.03320557288087525), (84, 0.033118190763356314), (166, 0.033030847552296655), (155, 0.03241868223956075), (191, 0.03241868223956075), (79, 0.03213807417308549), (80, 0.03213807417308549), (170, 0.031019399497607132), (178, 0.031019399497607132), (69, 0.0309647447625839), (71, 0.029357555379781096), (158, 0.029357555379781096), (73, 0.01985136835201146), (83, 0.01970257586623641), (10, 0.0)]\n"
          ]
        }
      ],
      "source": [
        "# sorting movies based on similarity score\n",
        "sorted_similar_laptop = sorted(similarity_scores, key=lambda x: x[1], reverse=True)\n",
        "print(sorted_similar_laptop)"
      ]
    },
    {
      "cell_type": "code",
      "source": [
        "# Cetak DataFrame df\n",
        "print(df)\n",
        "\n",
        "# Cetak similarity scores\n",
        "print(similarity)\n"
      ],
      "metadata": {
        "colab": {
          "base_uri": "https://localhost:8080/"
        },
        "id": "T2v3YNB4Juap",
        "outputId": "ac61186b-56e2-4ffc-9bd9-a09af50b2c2c"
      },
      "execution_count": 157,
      "outputs": [
        {
          "output_type": "stream",
          "name": "stdout",
          "text": [
            "      Brand                       Laptop_name Display_size  \\\n",
            "0        HP              Notebook 14-df0008nx         14.0   \n",
            "1    Lenovo                IdeaPad 330S-14IKB         14.0   \n",
            "2    Huawei                  MateBook D Volta         14.0   \n",
            "3      Dell                    Inspiron 1 367          1.6   \n",
            "4      Asus                  VivoBook 1 X10UR          1.6   \n",
            "..      ...                               ...          ...   \n",
            "200  Lenovo                IdeaPad 320-1IKBRN          1.6   \n",
            "201  Huawei                        MateBook D          1.6   \n",
            "202   Apple  MacBook Pro (Retina + Touch Bar)          1.4   \n",
            "203   Apple  MacBook Pro (Retina + Touch Bar)          1.4   \n",
            "204    Dell                    Inspiron 1 376          1.6   \n",
            "\n",
            "            Processor_type                 Graphics_card  \\\n",
            "0      Intel Celeron N4000         Intel HD Graphics 600   \n",
            "1        Intel Core i-820U        Intel UHD Graphics 620   \n",
            "2        Intel Core i-820U    NVIDIA GeForce MX10 (2 GB)   \n",
            "3      Intel Core i3-7020U         Intel HD Graphics 620   \n",
            "4        Intel Core i7-80U   NVIDIA GeForce 930MX (2 GB)   \n",
            "..                     ...                           ...   \n",
            "200      Intel Core i-820U                  Intel GMA HD   \n",
            "201      Intel Core i7-80U    NVIDIA GeForce MX10 (2 GB)   \n",
            "202   Intel Core i7 6 Core      Radeon Pro X GDDR (4 GB)   \n",
            "203   Intel Core i7 6 Core    Radeon Pro 60X GDDR (4 GB)   \n",
            "204      Intel Core i-820U          AMD Radeon 20 (2 GB)   \n",
            "\n",
            "               Disk_space  Discount_price  Old_price  Rating  \n",
            "0            64 GB (eMMC)           129.0      129.0     0.0  \n",
            "1                1 TB HDD          1849.0     2099.0     3.3  \n",
            "2               26 GB SSD          2999.0     3799.0     0.0  \n",
            "3                1 TB HDD          1849.0     1849.0     0.0  \n",
            "4                1 TB HDD          2499.0     3149.0     0.0  \n",
            "..                    ...             ...        ...     ...  \n",
            "200              1 TB HDD          2099.0     2099.0     3.8  \n",
            "201   128 GB SSD/1 TB HDD          3299.0     3299.0     4.0  \n",
            "202             26 GB SSD         10199.0    10199.0     0.0  \n",
            "203             12 GB SSD         11899.0    11899.0     4.4  \n",
            "204              1 TB HDD          2299.0     2299.0     0.0  \n",
            "\n",
            "[204 rows x 9 columns]\n",
            "[[1.         0.14078664 0.12087332 ... 0.03110483 0.02831716 0.02534579]\n",
            " [0.14078664 1.         0.15857772 ... 0.03781683 0.03442763 0.15058758]\n",
            " [0.12087332 0.15857772 1.         ... 0.15155274 0.0900721  0.11952368]\n",
            " ...\n",
            " [0.03110483 0.03781683 0.15155274 ... 1.         0.86843695 0.12282518]\n",
            " [0.02831716 0.03442763 0.0900721  ... 0.86843695 1.         0.11181739]\n",
            " [0.02534579 0.15058758 0.11952368 ... 0.12282518 0.11181739 1.        ]]\n"
          ]
        }
      ]
    },
    {
      "cell_type": "code",
      "execution_count": 161,
      "metadata": {
        "colab": {
          "base_uri": "https://localhost:8080/"
        },
        "id": "vsR_0S1G1QwS",
        "outputId": "a55e2ea9-5b1c-47b4-a7cd-05724207b4a1"
      },
      "outputs": [
        {
          "output_type": "stream",
          "name": "stdout",
          "text": [
            "Laptop suggested for you : \n",
            "\n",
            "1 . MateBook D Volta\n",
            "2 . MateBook D Volta\n",
            "3 . MateBook D\n",
            "4 . MateBook D\n",
            "5 . MateBook X Pro\n",
            "6 . MateBook D\n",
            "7 . MateBook D\n",
            "8 . MateBook D\n",
            "9 . MateBook 13\n",
            "10 . MateBook X Pro\n",
            "11 . MateBook 13\n",
            "12 . Pavilion 14-ce0000nx\n",
            "13 . Pavilion 14-ce0001nx\n",
            "14 . ZenBook UX430UN Ultrabook\n",
            "15 . MateBook 13\n",
            "16 . VivoBook S430\n",
            "17 . VivoBook 14 S430FN\n",
            "18 . ZenBook 14 UX433FN\n",
            "19 . ZenBook UX433FN\n",
            "20 . Swift 3 314\n"
          ]
        }
      ],
      "source": [
        "print(\"Laptop suggested for you : \\n\")\n",
        "\n",
        "i = 1\n",
        "\n",
        "for index, laptop in sorted_similar_laptop.iterrows():\n",
        "    title_from_index = df[df['Laptop_name'] == laptop['Laptop_name']]['Laptop_name'].values\n",
        "    if len(title_from_index) > 0:\n",
        "        title_from_index = title_from_index[0]\n",
        "        if i <= 20:\n",
        "            print(i, \".\", title_from_index)\n",
        "            i += 1\n",
        "    else:\n",
        "        continue\n",
        "\n",
        "if i == 1:\n",
        "    print(\"No laptop recommendations found.\")\n"
      ]
    }
  ],
  "metadata": {
    "kernelspec": {
      "display_name": "base",
      "language": "python",
      "name": "python3"
    },
    "language_info": {
      "codemirror_mode": {
        "name": "ipython",
        "version": 3
      },
      "file_extension": ".py",
      "mimetype": "text/x-python",
      "name": "python",
      "nbconvert_exporter": "python",
      "pygments_lexer": "ipython3",
      "version": "3.9.13"
    },
    "orig_nbformat": 4,
    "colab": {
      "provenance": []
    }
  },
  "nbformat": 4,
  "nbformat_minor": 0
}